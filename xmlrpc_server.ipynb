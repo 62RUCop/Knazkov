{
 "cells": [
  {
   "cell_type": "code",
   "execution_count": 1,
   "metadata": {
    "pycharm": {
     "name": "#%%\n"
    }
   },
   "outputs": [
    {
     "name": "stdout",
     "output_type": "stream",
     "text": [
      "Listening on port 8008...\n",
      "loged\n",
      "NOT loged\n"
     ]
    },
    {
     "name": "stderr",
     "output_type": "stream",
     "text": [
      "127.0.0.1 - - [19/Dec/2024 14:22:33] \"POST /RPC2 HTTP/1.1\" 200 -\n"
     ]
    },
    {
     "name": "stdout",
     "output_type": "stream",
     "text": [
      "loged\n",
      "NOT loged\n"
     ]
    },
    {
     "name": "stderr",
     "output_type": "stream",
     "text": [
      "127.0.0.1 - - [19/Dec/2024 14:22:37] \"POST /RPC2 HTTP/1.1\" 200 -\n",
      "127.0.0.1 - - [19/Dec/2024 14:25:15] \"POST /RPC2 HTTP/1.1\" 200 -\n",
      "127.0.0.1 - - [19/Dec/2024 14:25:19] \"POST /RPC2 HTTP/1.1\" 200 -\n"
     ]
    },
    {
     "name": "stdout",
     "output_type": "stream",
     "text": [
      "loged\n",
      "NOT loged\n"
     ]
    },
    {
     "name": "stderr",
     "output_type": "stream",
     "text": [
      "127.0.0.1 - - [19/Dec/2024 14:25:50] \"POST /RPC2 HTTP/1.1\" 200 -\n"
     ]
    },
    {
     "name": "stdout",
     "output_type": "stream",
     "text": [
      "loged\n",
      "NOT loged\n"
     ]
    },
    {
     "name": "stderr",
     "output_type": "stream",
     "text": [
      "127.0.0.1 - - [19/Dec/2024 14:26:19] \"POST /RPC2 HTTP/1.1\" 200 -\n"
     ]
    },
    {
     "name": "stdout",
     "output_type": "stream",
     "text": [
      "loged\n",
      "NOT loged\n"
     ]
    },
    {
     "name": "stderr",
     "output_type": "stream",
     "text": [
      "127.0.0.1 - - [19/Dec/2024 14:26:32] \"POST /RPC2 HTTP/1.1\" 200 -\n"
     ]
    },
    {
     "name": "stdout",
     "output_type": "stream",
     "text": [
      "loged\n",
      "NOT loged\n"
     ]
    },
    {
     "name": "stderr",
     "output_type": "stream",
     "text": [
      "127.0.0.1 - - [19/Dec/2024 14:26:48] \"POST /RPC2 HTTP/1.1\" 200 -\n"
     ]
    },
    {
     "name": "stdout",
     "output_type": "stream",
     "text": [
      "loged\n",
      "NOT loged\n"
     ]
    },
    {
     "name": "stderr",
     "output_type": "stream",
     "text": [
      "127.0.0.1 - - [19/Dec/2024 14:27:03] \"POST /RPC2 HTTP/1.1\" 200 -\n"
     ]
    },
    {
     "name": "stdout",
     "output_type": "stream",
     "text": [
      "loged\n",
      "NOT loged\n"
     ]
    },
    {
     "name": "stderr",
     "output_type": "stream",
     "text": [
      "127.0.0.1 - - [19/Dec/2024 14:27:10] \"POST /RPC2 HTTP/1.1\" 200 -\n"
     ]
    },
    {
     "name": "stdout",
     "output_type": "stream",
     "text": [
      "loged\n",
      "NOT loged\n"
     ]
    },
    {
     "name": "stderr",
     "output_type": "stream",
     "text": [
      "127.0.0.1 - - [19/Dec/2024 14:27:18] \"POST /RPC2 HTTP/1.1\" 200 -\n"
     ]
    },
    {
     "name": "stdout",
     "output_type": "stream",
     "text": [
      "loged\n",
      "NOT loged\n"
     ]
    },
    {
     "name": "stderr",
     "output_type": "stream",
     "text": [
      "127.0.0.1 - - [19/Dec/2024 14:27:23] \"POST /RPC2 HTTP/1.1\" 200 -\n"
     ]
    },
    {
     "name": "stdout",
     "output_type": "stream",
     "text": [
      "loged\n",
      "NOT loged\n"
     ]
    },
    {
     "name": "stderr",
     "output_type": "stream",
     "text": [
      "127.0.0.1 - - [19/Dec/2024 14:27:56] \"POST /RPC2 HTTP/1.1\" 200 -\n"
     ]
    },
    {
     "name": "stdout",
     "output_type": "stream",
     "text": [
      "loged\n",
      "NOT loged\n"
     ]
    },
    {
     "name": "stderr",
     "output_type": "stream",
     "text": [
      "127.0.0.1 - - [19/Dec/2024 14:29:54] \"POST /RPC2 HTTP/1.1\" 200 -\n"
     ]
    },
    {
     "name": "stdout",
     "output_type": "stream",
     "text": [
      "loged\n",
      "NOT loged\n"
     ]
    },
    {
     "name": "stderr",
     "output_type": "stream",
     "text": [
      "127.0.0.1 - - [19/Dec/2024 14:32:21] \"POST /RPC2 HTTP/1.1\" 200 -\n"
     ]
    },
    {
     "name": "stdout",
     "output_type": "stream",
     "text": [
      "loged\n",
      "NOT loged\n"
     ]
    },
    {
     "name": "stderr",
     "output_type": "stream",
     "text": [
      "127.0.0.1 - - [19/Dec/2024 14:32:47] \"POST /RPC2 HTTP/1.1\" 200 -\n",
      "127.0.0.1 - - [19/Dec/2024 14:33:11] \"POST /RPC2 HTTP/1.1\" 200 -\n",
      "127.0.0.1 - - [19/Dec/2024 14:33:15] \"POST /RPC2 HTTP/1.1\" 200 -\n"
     ]
    },
    {
     "ename": "KeyboardInterrupt",
     "evalue": "",
     "output_type": "error",
     "traceback": [
      "\u001b[1;31m---------------------------------------------------------------------------\u001b[0m",
      "\u001b[1;31mKeyboardInterrupt\u001b[0m                         Traceback (most recent call last)",
      "Cell \u001b[1;32mIn[1], line 159\u001b[0m\n\u001b[0;32m    155\u001b[0m server\u001b[38;5;241m.\u001b[39mregister_function(mirror_vertically, \u001b[38;5;124m'\u001b[39m\u001b[38;5;124mmirror_vertically\u001b[39m\u001b[38;5;124m'\u001b[39m)\n\u001b[0;32m    158\u001b[0m \u001b[38;5;28mprint\u001b[39m(\u001b[38;5;124m\"\u001b[39m\u001b[38;5;124mListening on port 8008...\u001b[39m\u001b[38;5;124m\"\u001b[39m)\n\u001b[1;32m--> 159\u001b[0m server\u001b[38;5;241m.\u001b[39mserve_forever()\n",
      "File \u001b[1;32m~\\AppData\\Local\\anaconda3\\Lib\\socketserver.py:235\u001b[0m, in \u001b[0;36mBaseServer.serve_forever\u001b[1;34m(self, poll_interval)\u001b[0m\n\u001b[0;32m    232\u001b[0m selector\u001b[38;5;241m.\u001b[39mregister(\u001b[38;5;28mself\u001b[39m, selectors\u001b[38;5;241m.\u001b[39mEVENT_READ)\n\u001b[0;32m    234\u001b[0m \u001b[38;5;28;01mwhile\u001b[39;00m \u001b[38;5;129;01mnot\u001b[39;00m \u001b[38;5;28mself\u001b[39m\u001b[38;5;241m.\u001b[39m__shutdown_request:\n\u001b[1;32m--> 235\u001b[0m     ready \u001b[38;5;241m=\u001b[39m selector\u001b[38;5;241m.\u001b[39mselect(poll_interval)\n\u001b[0;32m    236\u001b[0m     \u001b[38;5;66;03m# bpo-35017: shutdown() called during select(), exit immediately.\u001b[39;00m\n\u001b[0;32m    237\u001b[0m     \u001b[38;5;28;01mif\u001b[39;00m \u001b[38;5;28mself\u001b[39m\u001b[38;5;241m.\u001b[39m__shutdown_request:\n",
      "File \u001b[1;32m~\\AppData\\Local\\anaconda3\\Lib\\selectors.py:323\u001b[0m, in \u001b[0;36mSelectSelector.select\u001b[1;34m(self, timeout)\u001b[0m\n\u001b[0;32m    321\u001b[0m ready \u001b[38;5;241m=\u001b[39m []\n\u001b[0;32m    322\u001b[0m \u001b[38;5;28;01mtry\u001b[39;00m:\n\u001b[1;32m--> 323\u001b[0m     r, w, _ \u001b[38;5;241m=\u001b[39m \u001b[38;5;28mself\u001b[39m\u001b[38;5;241m.\u001b[39m_select(\u001b[38;5;28mself\u001b[39m\u001b[38;5;241m.\u001b[39m_readers, \u001b[38;5;28mself\u001b[39m\u001b[38;5;241m.\u001b[39m_writers, [], timeout)\n\u001b[0;32m    324\u001b[0m \u001b[38;5;28;01mexcept\u001b[39;00m \u001b[38;5;167;01mInterruptedError\u001b[39;00m:\n\u001b[0;32m    325\u001b[0m     \u001b[38;5;28;01mreturn\u001b[39;00m ready\n",
      "File \u001b[1;32m~\\AppData\\Local\\anaconda3\\Lib\\selectors.py:314\u001b[0m, in \u001b[0;36mSelectSelector._select\u001b[1;34m(self, r, w, _, timeout)\u001b[0m\n\u001b[0;32m    313\u001b[0m \u001b[38;5;28;01mdef\u001b[39;00m \u001b[38;5;21m_select\u001b[39m(\u001b[38;5;28mself\u001b[39m, r, w, _, timeout\u001b[38;5;241m=\u001b[39m\u001b[38;5;28;01mNone\u001b[39;00m):\n\u001b[1;32m--> 314\u001b[0m     r, w, x \u001b[38;5;241m=\u001b[39m select\u001b[38;5;241m.\u001b[39mselect(r, w, w, timeout)\n\u001b[0;32m    315\u001b[0m     \u001b[38;5;28;01mreturn\u001b[39;00m r, w \u001b[38;5;241m+\u001b[39m x, []\n",
      "\u001b[1;31mKeyboardInterrupt\u001b[0m: "
     ]
    }
   ],
   "source": [
    "# xmlrpc_server.ipynb\n",
    "\n",
    "import xmlrpc.server as server\n",
    "import xmlrpc.client as client\n",
    "import datetime\n",
    "import pandas as pd\n",
    "import pickle\n",
    "import numpy\n",
    "\n",
    "\n",
    "class RequestHandler(server.SimpleXMLRPCRequestHandler):\n",
    "    rpc_paths = ('/RPC2',)\n",
    "\n",
    "server = server.SimpleXMLRPCServer((\"localhost\", 8008),\n",
    "                            requestHandler=RequestHandler)\n",
    "server.register_introspection_functions()\n",
    "stats_server = client.ServerProxy(\"http://localhost:8018\")\n",
    "\n",
    "# Добавление в лог через сервер\n",
    "def add_log(log_line):\n",
    "    try:\n",
    "        stats_server.add_log(log_line)\n",
    "        print('loged')\n",
    "        return True\n",
    "    finally:\n",
    "        print('NOT loged')\n",
    "        return False\n",
    "\n",
    "def get_logs_slice(p_type, s_time, e_time):\n",
    "    try:\n",
    "        return stats_server.get_logs_slice(p_type, s_time, e_time)\n",
    "    except:\n",
    "        return 'Log server is not available'\n",
    "server.register_function(get_logs_slice, 'get_logs_slice')\n",
    "\n",
    "# Тест\n",
    "def ping():\n",
    "    add_log('ping')\n",
    "    return True\n",
    "server.register_function(ping, 'ping')\n",
    "\n",
    "# Время сервера\n",
    "def now():\n",
    "    add_log('now')\n",
    "    return datetime.datetime.now()\n",
    "server.register_function(now, 'now')\n",
    "\n",
    "# Отображение строкового вида, типа и значений\n",
    "def show_type(arg):\n",
    "    add_log('type')\n",
    "    return str(arg), str(type(arg)), arg\n",
    "server.register_function(show_type, 'type')\n",
    "\n",
    "# Сумма\n",
    "def test_sum(a, b):\n",
    "    add_log('sum')\n",
    "    return a + b\n",
    "server.register_function(test_sum, 'sum')\n",
    "\n",
    "# Степень\n",
    "def test_pow(a, b):\n",
    "    add_log('pow')\n",
    "    return a**b\n",
    "server.register_function(test_pow, 'pow')\n",
    "\n",
    "# Проверка нахождения клиента в черном списке c использованием Pandas Data Frame\n",
    "def black_list_check(sname):\n",
    "    add_log('black_list_check')\n",
    "    frame = pd.read_csv('bad_boys2.csv', header=0, sep=',', encoding='utf8')\n",
    "    exist = any(frame['Surname'] == sname)\n",
    "    if exist:\n",
    "        return sname + \": \"+ \"bad_boy\"\n",
    "    else:\n",
    "        return sname + \": \"+ \"good_boy\"\n",
    "server.register_function(black_list_check, 'black_list_check')\n",
    "\n",
    "# Бинарная передача данных\n",
    "def send_back_binary(bin_data):\n",
    "    add_log('send_back_binary')\n",
    "    data = bin_data.data\n",
    "    return client.Binary(data)\n",
    "server.register_function(send_back_binary, 'send_back_binary')\n",
    "\n",
    "# Задание 4. Проверка на наличие человека в черном списке с проверкой по ФИО и дате рождения\n",
    "def black_list_check_by_name_and_birthday(sname, name, pat, b_date):\n",
    "    add_log('black_list_check_by_name_and_birthday')\n",
    "    # Чтение данных из CSV файла\n",
    "    frame = pd.read_csv('bad_boys2.csv', header=0, sep=',', encoding='utf8')\n",
    "    \n",
    "    # Фильтруем DataFrame, проверяя каждую колонку на совпадение\n",
    "    exist = frame[\n",
    "        (frame['Surname'] == sname) & \n",
    "        (frame['Name'] == name) & \n",
    "        (frame['Patronym'] == pat) & \n",
    "        (frame['Birth'] == b_date)\n",
    "    ]\n",
    "    \n",
    "    # Проверяем, если есть совпадения\n",
    "    if not exist.empty:\n",
    "        return f\"{sname} {name} {pat} {b_date}: bad_boy\"\n",
    "    else:\n",
    "        return f\"{sname} {name} {pat} {b_date}: good_boy\"\n",
    "server.register_function(black_list_check_by_name_and_birthday, 'black_list_check_by_name_and_birthday')\n",
    "\n",
    "# Задание 5. Модифицировать функцию сервера send_back_inversion на корректную работу также с монохромными изображениями,\n",
    "# т.е. входными данными могут быть размерности (M, N, 3) и (M, N, 1).\n",
    "def send_back_inversion(bin_data):\n",
    "    add_log('send_back_inversion')\n",
    "    img_arr = pickle.loads(bin_data.data)\n",
    "    height = img_arr.shape[0]\n",
    "    width = img_arr.shape[1]\n",
    "    for i in range(height):\n",
    "        for j in range(width):\n",
    "            if type(img_arr[i][j]) == numpy.ndarray:\n",
    "                for p in range(3):\n",
    "                    img_arr[i][j][p] = 255 - img_arr[i][j][p]\n",
    "            else:\n",
    "                img_arr[i][j] = 255 - img_arr[i][j]\n",
    "    pimg = pickle.dumps(img_arr)\n",
    "    return client.Binary(pimg)\n",
    "server.register_function(send_back_inversion, 'color_inversion')\n",
    "\n",
    "# Задание 6. Функция бинаризации изображения по задаваемому порогу 1-255 для цветных и монохромных изображений\n",
    "def binarize_by_threshold(bin_data, threshold):\n",
    "    add_log('binarize_by_threshold')\n",
    "    img_arr = pickle.loads(bin_data.data)\n",
    "    height = img_arr.shape[0]\n",
    "    width = img_arr.shape[1]\n",
    "    for i in range(height):\n",
    "        for j in range(width):\n",
    "            if type(img_arr[i][j]) == numpy.ndarray:\n",
    "                for p in range(3):\n",
    "                    img_arr[i][j][p] = 255 if img_arr[i][j][p] >= threshold else 0\n",
    "            else:\n",
    "                img_arr[i][j] = 255 if img_arr[i][j] >= threshold else 0\n",
    "    pimg = pickle.dumps(img_arr)\n",
    "    return client.Binary(pimg)\n",
    "server.register_function(binarize_by_threshold, 'binarize_by_threshold')\n",
    "\n",
    "# Задание 7. Функция разворота изображения относительно вертикали для цветных и монохромных изображений\n",
    "def mirror_vertically(bin_data):\n",
    "    add_log('mirror_vertically')\n",
    "    img_arr = pickle.loads(bin_data.data)\n",
    "    height = img_arr.shape[0]\n",
    "    width = img_arr.shape[1]\n",
    "    for i in range(height):\n",
    "        for j in range(width // 2):\n",
    "            if type(img_arr[i][j]) == numpy.ndarray:\n",
    "                t1, t2 = [p for p in img_arr[i][j]], [p for p in img_arr[i][-j - 1]]\n",
    "                img_arr[i][j], img_arr[i][-j - 1] = t2, t1\n",
    "            else:\n",
    "                img_arr[i][j], img_arr[i][-j - 1] = img_arr[i][-j - 1], img_arr[i][j]\n",
    "    pimg = pickle.dumps(img_arr)\n",
    "    return client.Binary(pimg)\n",
    "server.register_function(mirror_vertically, 'mirror_vertically')\n",
    "\n",
    "\n",
    "print(\"Listening on port 8008...\")\n",
    "server.serve_forever()"
   ]
  },
  {
   "cell_type": "code",
   "execution_count": null,
   "metadata": {},
   "outputs": [],
   "source": []
  }
 ],
 "metadata": {
  "kernelspec": {
   "display_name": "Python 3 (ipykernel)",
   "language": "python",
   "name": "python3"
  },
  "language_info": {
   "codemirror_mode": {
    "name": "ipython",
    "version": 3
   },
   "file_extension": ".py",
   "mimetype": "text/x-python",
   "name": "python",
   "nbconvert_exporter": "python",
   "pygments_lexer": "ipython3",
   "version": "3.12.7"
  }
 },
 "nbformat": 4,
 "nbformat_minor": 4
}
