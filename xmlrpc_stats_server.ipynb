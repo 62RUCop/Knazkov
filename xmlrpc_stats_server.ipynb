{
 "cells": [
  {
   "cell_type": "code",
   "execution_count": null,
   "metadata": {},
   "outputs": [
    {
     "name": "stdout",
     "output_type": "stream",
     "text": [
      "Listening on port 8018...\n"
     ]
    },
    {
     "name": "stderr",
     "output_type": "stream",
     "text": [
      "127.0.0.1 - - [19/Dec/2024 16:03:57] \"POST /RPC2 HTTP/1.1\" 200 -\n",
      "127.0.0.1 - - [19/Dec/2024 16:04:05] \"POST /RPC2 HTTP/1.1\" 200 -\n",
      "127.0.0.1 - - [19/Dec/2024 16:04:13] \"POST /RPC2 HTTP/1.1\" 200 -\n",
      "127.0.0.1 - - [19/Dec/2024 16:04:21] \"POST /RPC2 HTTP/1.1\" 200 -\n",
      "127.0.0.1 - - [19/Dec/2024 16:04:29] \"POST /RPC2 HTTP/1.1\" 200 -\n",
      "127.0.0.1 - - [19/Dec/2024 16:04:37] \"POST /RPC2 HTTP/1.1\" 200 -\n",
      "127.0.0.1 - - [19/Dec/2024 16:04:46] \"POST /RPC2 HTTP/1.1\" 200 -\n",
      "127.0.0.1 - - [19/Dec/2024 16:04:54] \"POST /RPC2 HTTP/1.1\" 200 -\n",
      "127.0.0.1 - - [19/Dec/2024 16:05:02] \"POST /RPC2 HTTP/1.1\" 200 -\n",
      "127.0.0.1 - - [19/Dec/2024 16:05:10] \"POST /RPC2 HTTP/1.1\" 200 -\n",
      "127.0.0.1 - - [19/Dec/2024 16:05:18] \"POST /RPC2 HTTP/1.1\" 200 -\n",
      "127.0.0.1 - - [19/Dec/2024 16:07:40] \"POST /RPC2 HTTP/1.1\" 200 -\n",
      "127.0.0.1 - - [19/Dec/2024 16:08:02] \"POST /RPC2 HTTP/1.1\" 200 -\n",
      "127.0.0.1 - - [19/Dec/2024 16:08:11] \"POST /RPC2 HTTP/1.1\" 200 -\n",
      "127.0.0.1 - - [19/Dec/2024 16:08:19] \"POST /RPC2 HTTP/1.1\" 200 -\n",
      "127.0.0.1 - - [19/Dec/2024 16:08:39] \"POST /RPC2 HTTP/1.1\" 200 -\n",
      "127.0.0.1 - - [19/Dec/2024 16:08:51] \"POST /RPC2 HTTP/1.1\" 200 -\n",
      "127.0.0.1 - - [19/Dec/2024 16:09:11] \"POST /RPC2 HTTP/1.1\" 200 -\n",
      "127.0.0.1 - - [19/Dec/2024 16:09:31] \"POST /RPC2 HTTP/1.1\" 200 -\n",
      "127.0.0.1 - - [19/Dec/2024 16:09:42] \"POST /RPC2 HTTP/1.1\" 200 -\n",
      "127.0.0.1 - - [19/Dec/2024 16:09:54] \"POST /RPC2 HTTP/1.1\" 200 -\n",
      "127.0.0.1 - - [19/Dec/2024 16:10:03] \"POST /RPC2 HTTP/1.1\" 200 -\n",
      "127.0.0.1 - - [19/Dec/2024 16:10:10] \"POST /RPC2 HTTP/1.1\" 200 -\n",
      "127.0.0.1 - - [19/Dec/2024 16:10:14] \"POST /RPC2 HTTP/1.1\" 200 -\n"
     ]
    }
   ],
   "source": [
    "import xmlrpc.client\n",
    "from xmlrpc.server import SimpleXMLRPCServer\n",
    "from xmlrpc.server import SimpleXMLRPCRequestHandler\n",
    "import datetime\n",
    "import os\n",
    "import pandas as pd\n",
    "\n",
    "\n",
    "class RequestHandler(SimpleXMLRPCRequestHandler):\n",
    "    rpc_paths = ('/RPC2',)\n",
    "server = SimpleXMLRPCServer((\"localhost\", 8018),\n",
    "                            requestHandler=RequestHandler)\n",
    "\n",
    "# Настройка максимального размера лога\n",
    "max_log_size = 10\n",
    "current_log_size = None\n",
    "# Данные файла лога\n",
    "log_path = 'log/'\n",
    "\n",
    "# Добавление строки в лог\n",
    "def add_log(sname, work_time):\n",
    "    global log_path\n",
    "    global current_log_size\n",
    "    if current_log_size is None:\n",
    "        f = open(log_path + 'log.csv','w+')\n",
    "        current_log_size = len(f.read().split('\\n')) - 1\n",
    "        f.close()\n",
    "    f = open(log_path + 'log.csv','a')\n",
    "    f.write(sname + ',' + datetime.datetime.now().strftime('%Y%m%dT%H:%M:%S') + ',' + str(work_time) + '\\n')\n",
    "    f.close()\n",
    "    current_log_size += 1\n",
    "    check_log_size()\n",
    "    return True\n",
    "server.register_function(add_log, 'add_log')\n",
    "\n",
    "# Проверка размера лога, сохранение лога в отдельный файл\n",
    "def check_log_size():\n",
    "    global log_path\n",
    "    global max_log_size\n",
    "    global current_log_size\n",
    "    if current_log_size == max_log_size:\n",
    "        os.rename(log_path + 'log.csv', log_path + 'log_' + datetime.datetime.now().strftime(\"%Y%m%d_%H%M%S\") + '.csv')\n",
    "        current_log_size = 0\n",
    "\n",
    "def get_logs_slice(p_type, s_time, e_time, max_work_time):\n",
    "    global log_path\n",
    "    f = open(log_path + 'log.csv','r')\n",
    "    text = f.read().split('\\n')\n",
    "    logs = []\n",
    "    for line in text:\n",
    "        if line != '':\n",
    "            log = line.split(',')\n",
    "            if (p_type == 'all' or log[0] == p_type) and (s_time == '' or log[1] >= s_time) and (e_time == '' or log[1] <= e_time) and (max_work_time == '' or float(log[2]) <= max_work_time):\n",
    "                logs.append((log[0], log[1], log[2]))\n",
    "    f.close()\n",
    "    return logs        \n",
    "server.register_function(get_logs_slice, 'get_logs_slice')\n",
    "\n",
    "print (\"Listening on port 8018...\")\n",
    "server.serve_forever()"
   ]
  },
  {
   "cell_type": "code",
   "execution_count": null,
   "metadata": {},
   "outputs": [],
   "source": []
  }
 ],
 "metadata": {
  "kernelspec": {
   "display_name": "Python 3 (ipykernel)",
   "language": "python",
   "name": "python3"
  },
  "language_info": {
   "codemirror_mode": {
    "name": "ipython",
    "version": 3
   },
   "file_extension": ".py",
   "mimetype": "text/x-python",
   "name": "python",
   "nbconvert_exporter": "python",
   "pygments_lexer": "ipython3",
   "version": "3.12.7"
  }
 },
 "nbformat": 4,
 "nbformat_minor": 4
}
